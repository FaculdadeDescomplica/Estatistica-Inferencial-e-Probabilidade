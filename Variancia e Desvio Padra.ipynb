{
 "cells": [
  {
   "cell_type": "markdown",
   "id": "295b440d",
   "metadata": {},
   "source": [
    "## Exemplos de Variancia e Desvio Padra"
   ]
  },
  {
   "cell_type": "code",
   "execution_count": 2,
   "id": "1b35221f",
   "metadata": {},
   "outputs": [],
   "source": [
    "import statistics  # Importa a biblioteca padrão para estatísticas\n",
    "\n",
    "# Lista de dados numéricos\n",
    "dados = [10, 12, 23, 23, 16, 23, 21, 16, 23, 21, 16, 23, 21, 16, 23, 21, 16, 23, 21, 16]"
   ]
  },
  {
   "cell_type": "code",
   "execution_count": 3,
   "id": "4f6b9bc8",
   "metadata": {},
   "outputs": [
    {
     "name": "stdout",
     "output_type": "stream",
     "text": [
      "Média: 19.2\n"
     ]
    }
   ],
   "source": [
    "# Calcula a média dos dados\n",
    "media = statistics.mean(dados)  # Soma todos os valores e divide pela quantidade\n",
    "\n",
    "# Exibe os resultados\n",
    "print(f\"Média: {media}\")                # Exibe a média dos dados"
   ]
  },
  {
   "cell_type": "code",
   "execution_count": 4,
   "id": "fde446b9",
   "metadata": {},
   "outputs": [
    {
     "name": "stdout",
     "output_type": "stream",
     "text": [
      "Variância: 16.589473684210525\n"
     ]
    }
   ],
   "source": [
    "# Calcula a variância amostral \n",
    "variancia = statistics.variance(dados)  # Mede a dispersão dos dados em relação à média\n",
    "print(f\"Variância: {variancia}\")        # Exibe a variância calculada"
   ]
  },
  {
   "cell_type": "code",
   "execution_count": 5,
   "id": "a18c4d99",
   "metadata": {},
   "outputs": [
    {
     "name": "stdout",
     "output_type": "stream",
     "text": [
      "Desvio Padrão: 4.073017761342384\n"
     ]
    }
   ],
   "source": [
    "# Calcula o desvio padrão amostral (raiz quadrada da variância)\n",
    "desvio_padrao = statistics.stdev(dados)  # Mede a dispersão média dos dados\n",
    "print(f\"Desvio Padrão: {desvio_padrao}\")  # Exibe o desvio padrão"
   ]
  }
 ],
 "metadata": {
  "kernelspec": {
   "display_name": "Python 3",
   "language": "python",
   "name": "python3"
  },
  "language_info": {
   "codemirror_mode": {
    "name": "ipython",
    "version": 3
   },
   "file_extension": ".py",
   "mimetype": "text/x-python",
   "name": "python",
   "nbconvert_exporter": "python",
   "pygments_lexer": "ipython3",
   "version": "3.13.2"
  }
 },
 "nbformat": 4,
 "nbformat_minor": 5
}

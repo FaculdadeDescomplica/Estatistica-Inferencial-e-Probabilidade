{
 "cells": [
  {
   "cell_type": "markdown",
   "id": "092db8c9",
   "metadata": {},
   "source": [
    "## Exemplos de Amplitude e Desvio Medio"
   ]
  },
  {
   "cell_type": "code",
   "execution_count": 2,
   "id": "b2538bdd",
   "metadata": {},
   "outputs": [],
   "source": [
    "# Importa a biblioteca NumPy, muito usada para cálculos numéricos em Python\n",
    "import numpy as np"
   ]
  },
  {
   "cell_type": "code",
   "execution_count": 10,
   "id": "0314d862",
   "metadata": {},
   "outputs": [],
   "source": [
    "# Conjunto de dados representado como um array NumPy\n",
    "dados = np.array([4, 8, 6, 10, 2, 5, 7, 9, 3, 1, 11, 12, 15, 14, 13])"
   ]
  },
  {
   "cell_type": "code",
   "execution_count": 11,
   "id": "83f7ad8d",
   "metadata": {},
   "outputs": [],
   "source": [
    "# Cálculo da Amplitude\n",
    "\n",
    "# A amplitude é a diferença entre o maior e o menor valor do conjunto\n",
    "amplitude = np.max(dados) - np.min(dados)"
   ]
  },
  {
   "cell_type": "code",
   "execution_count": 12,
   "id": "e3f708b7",
   "metadata": {},
   "outputs": [
    {
     "name": "stdout",
     "output_type": "stream",
     "text": [
      "Amplitude: 14\n"
     ]
    }
   ],
   "source": [
    "# Cálculo da Amplitude\n",
    "\n",
    "# A amplitude é a diferença entre o maior e o menor valor do conjunto\n",
    "amplitude = np.max(dados) - np.min(dados)\n",
    "print(f\"Amplitude: {amplitude}\")# Exibe a amplitude dos dados"
   ]
  },
  {
   "cell_type": "code",
   "execution_count": 13,
   "id": "f7ce69d1",
   "metadata": {},
   "outputs": [
    {
     "name": "stdout",
     "output_type": "stream",
     "text": [
      "Desvio Médio: 3.73\n"
     ]
    }
   ],
   "source": [
    "# Cálculo da Média Aritmética\n",
    "\n",
    "# A média é obtida somando todos os valores e dividindo pela quantidade de elementos\n",
    "media = np.mean(dados)\n",
    "\n",
    "# Cálculo do Desvio Médio\n",
    "\n",
    "# Subtrai a média de cada valor e calcula o valor absoluto do desvio\n",
    "# Em seguida, tira a média desses desvios absolutos\n",
    "desvio_medio = np.mean(np.abs(dados - media))\n",
    "\n",
    "print(f\"Desvio Médio: {desvio_medio:.2f}\")       # Exibe o desvio médio com 2 casas decimais"
   ]
  }
 ],
 "metadata": {
  "kernelspec": {
   "display_name": "Python 3",
   "language": "python",
   "name": "python3"
  },
  "language_info": {
   "codemirror_mode": {
    "name": "ipython",
    "version": 3
   },
   "file_extension": ".py",
   "mimetype": "text/x-python",
   "name": "python",
   "nbconvert_exporter": "python",
   "pygments_lexer": "ipython3",
   "version": "3.13.2"
  }
 },
 "nbformat": 4,
 "nbformat_minor": 5
}

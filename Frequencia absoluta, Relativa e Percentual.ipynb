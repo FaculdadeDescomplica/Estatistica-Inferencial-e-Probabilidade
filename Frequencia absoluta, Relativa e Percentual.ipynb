{
 "cells": [
  {
   "cell_type": "markdown",
   "id": "4f35fe57",
   "metadata": {},
   "source": [
    "## EXEMPLO 1  - FREQUÊNCIA ABSOLUTA, RELATIVA e PERCENTUAL - 30 valores"
   ]
  },
  {
   "cell_type": "code",
   "execution_count": 7,
   "id": "2849845e",
   "metadata": {},
   "outputs": [],
   "source": [
    "import pandas as pd  # Importa a biblioteca pandas, útil para análise e manipulação de dados"
   ]
  },
  {
   "cell_type": "code",
   "execution_count": 8,
   "id": "e009b7da",
   "metadata": {},
   "outputs": [],
   "source": [
    "# Lista de dados fornecida\n",
    "dados = [1, 2, 2, 3, 1, 2, 4, 2, 3, 5, 2, 4, 3, 5, 6, 2, 3, 4, 1, 3, 0, 2, 1, 2, 0, 3, 4, 5, 6, 2] # Temos 30 valores"
   ]
  },
  {
   "cell_type": "code",
   "execution_count": 9,
   "id": "a0db0458",
   "metadata": {},
   "outputs": [],
   "source": [
    "# Converte a lista para uma estrutura de dados chamada \"Series\", do pandas\n",
    "serie = pd.Series(dados)"
   ]
  },
  {
   "cell_type": "code",
   "execution_count": 10,
   "id": "8d63cf1b",
   "metadata": {},
   "outputs": [],
   "source": [
    "# Calcula a Frequência Absoluta: número de vezes que cada valor aparece\n",
    "frequencia_absoluta = serie.value_counts().sort_index()  # .sort_index() ordena os valores pelo índice (valor observado)\n",
    "\n",
    "# Calcula a Frequência Relativa: proporção em relação ao total de dados\n",
    "frequencia_relativa = frequencia_absoluta / len(serie)  # Divide cada frequência absoluta pelo total de elementos\n",
    "\n",
    "# Calcula a Frequência Percentual: frequência relativa em porcentagem\n",
    "frequencia_percentual = frequencia_relativa * 100  # Multiplica a frequência relativa por 100\n",
    "\n",
    "# Cria uma tabela com todas as frequências\n",
    "tabela_frequencia = pd.DataFrame({\n",
    "    'Frequência Absoluta (fi)': frequencia_absoluta,              # Coluna com frequência absoluta\n",
    "    'Frequência Relativa (fr)': frequencia_relativa.round(4),     # Coluna com frequência relativa (4 casas decimais)\n",
    "    'Frequência Percentual (fp%)': frequencia_percentual.round(2) # Coluna com frequência percentual (2 casas decimais)\n",
    "})"
   ]
  },
  {
   "cell_type": "code",
   "execution_count": 11,
   "id": "4dcae2d3",
   "metadata": {},
   "outputs": [
    {
     "name": "stdout",
     "output_type": "stream",
     "text": [
      "   Frequência Absoluta (fi)  Frequência Relativa (fr)  \\\n",
      "0                         2                    0.0667   \n",
      "1                         4                    0.1333   \n",
      "2                         9                    0.3000   \n",
      "3                         6                    0.2000   \n",
      "4                         4                    0.1333   \n",
      "5                         3                    0.1000   \n",
      "6                         2                    0.0667   \n",
      "\n",
      "   Frequência Percentual (fp%)  \n",
      "0                         6.67  \n",
      "1                        13.33  \n",
      "2                        30.00  \n",
      "3                        20.00  \n",
      "4                        13.33  \n",
      "5                        10.00  \n",
      "6                         6.67  \n"
     ]
    }
   ],
   "source": [
    "# Exibe a tabela no console\n",
    "print(tabela_frequencia)"
   ]
  },
  {
   "cell_type": "markdown",
   "id": "a38b12be",
   "metadata": {},
   "source": [
    "## EXEMPLO 2  - FREQUÊNCIA ABSOLUTA, RELATIVA e PERCENTUAL - 200 valores"
   ]
  },
  {
   "cell_type": "code",
   "execution_count": 1,
   "id": "1a071463",
   "metadata": {},
   "outputs": [],
   "source": [
    "import pandas as pd  # Importa a biblioteca pandas, útil para análise e manipulação de dados"
   ]
  },
  {
   "cell_type": "code",
   "execution_count": 10,
   "id": "390c57c8",
   "metadata": {},
   "outputs": [],
   "source": [
    "dados = [\n",
    "   3, 1, 4, 4, 5, 4, 1, 2, 1, 3, 3, 4, 4, 6, 1, 6, 3, 2, 5, 2, 3, 2, 2, 5, 1, 4, 6, 3,\n",
    "   6, 1, 5, 5, 5, 1, 6, 5, 6, 1, 5, 6, 6, 2, 5, 4, 5, 1, 6, 6, 5, 4, 2, 5, 4, 4, 1, 1, \n",
    "   3, 2, 5, 2, 6, 3, 1, 6, 3, 4, 4, 2, 1, 3, 1, 1, 6, 4, 6, 2, 4, 2, 2, 3, 2, 3, 5, 6, \n",
    "   6, 4, 5, 1, 1, 4, 6, 1, 5, 3, 2, 4, 5, 4, 3, 2, 5, 4, 5, 3, 5, 1, 5, 3, 4, 1, 2, 5, 6, \n",
    "   1, 5, 2, 6, 6, 6, 1, 4, 1, 6, 4, 2, 4, 1, 5, 1, 6, 4, 3, 5, 4, 4, 6, 1, 6, 2, 2, 6, 6, \n",
    "   2, 6, 1, 6, 1, 5, 1, 3, 2, 1, 6, 1, 3, 3, 3, 1, 6, 2, 6, 1, 1, 4, 5, 2, 4, 3, 2, 2, 1, \n",
    "   2, 6, 4, 6, 1, 5, 6, 5, 4, 1, 2, 2, 2, 6, 2, 4, 2, 6, 1, 5, 5, 3, 1, 4, 2, 4, 3, 2, 3\n",
    "]  # Total = 200 elementos\n"
   ]
  },
  {
   "cell_type": "code",
   "execution_count": 11,
   "id": "6e011c6a",
   "metadata": {},
   "outputs": [],
   "source": [
    "# Converte a lista para uma estrutura de dados chamada \"Series\", do pandas\n",
    "serie = pd.Series(dados)"
   ]
  },
  {
   "cell_type": "code",
   "execution_count": 12,
   "id": "d5b10bf8",
   "metadata": {},
   "outputs": [],
   "source": [
    "# Calcula a Frequência Absoluta: número de vezes que cada valor aparece\n",
    "frequencia_absoluta = serie.value_counts().sort_index()  # .sort_index() ordena os valores pelo índice (valor observado)\n"
   ]
  },
  {
   "cell_type": "code",
   "execution_count": 13,
   "id": "dff2b167",
   "metadata": {},
   "outputs": [],
   "source": [
    "# Calcula a Frequência Relativa: proporção em relação ao total de dados\n",
    "frequencia_relativa = frequencia_absoluta / len(serie)  # Divide cada frequência absoluta pelo total de elementos"
   ]
  },
  {
   "cell_type": "code",
   "execution_count": 14,
   "id": "1e2f23c6",
   "metadata": {},
   "outputs": [],
   "source": [
    "# Calcula a Frequência Percentual: frequência relativa em porcentagem\n",
    "frequencia_percentual = frequencia_relativa * 100  # Multiplica a frequência relativa por 100\n"
   ]
  },
  {
   "cell_type": "code",
   "execution_count": 15,
   "id": "f40ed0c1",
   "metadata": {},
   "outputs": [],
   "source": [
    "# Cria uma tabela com todas as frequências\n",
    "tabela_frequencia = pd.DataFrame({\n",
    "    'Frequência Absoluta (fi)': frequencia_absoluta,              # Coluna com frequência absoluta\n",
    "    'Frequência Relativa (fr)': frequencia_relativa.round(4),     # Coluna com frequência relativa (4 casas decimais)\n",
    "    'Frequência Percentual (fp%)': frequencia_percentual.round(2) # Coluna com frequência percentual (2 casas decimais)\n",
    "})"
   ]
  },
  {
   "cell_type": "code",
   "execution_count": 16,
   "id": "1278a604",
   "metadata": {},
   "outputs": [
    {
     "name": "stdout",
     "output_type": "stream",
     "text": [
      "   Frequência Absoluta (fi)  Frequência Relativa (fr)  \\\n",
      "1                        39                     0.195   \n",
      "2                        35                     0.175   \n",
      "3                        25                     0.125   \n",
      "4                        33                     0.165   \n",
      "5                        31                     0.155   \n",
      "6                        37                     0.185   \n",
      "\n",
      "   Frequência Percentual (fp%)  \n",
      "1                         19.5  \n",
      "2                         17.5  \n",
      "3                         12.5  \n",
      "4                         16.5  \n",
      "5                         15.5  \n",
      "6                         18.5  \n"
     ]
    }
   ],
   "source": [
    "# Exibe a tabela no console\n",
    "print(tabela_frequencia)"
   ]
  }
 ],
 "metadata": {
  "kernelspec": {
   "display_name": "Python 3",
   "language": "python",
   "name": "python3"
  },
  "language_info": {
   "codemirror_mode": {
    "name": "ipython",
    "version": 3
   },
   "file_extension": ".py",
   "mimetype": "text/x-python",
   "name": "python",
   "nbconvert_exporter": "python",
   "pygments_lexer": "ipython3",
   "version": "3.13.2"
  }
 },
 "nbformat": 4,
 "nbformat_minor": 5
}

{
 "cells": [
  {
   "cell_type": "code",
   "execution_count": 1,
   "id": "2357baab",
   "metadata": {},
   "outputs": [],
   "source": [
    "import statistics\n",
    "import numpy as np\n",
    "from scipy import stats"
   ]
  },
  {
   "cell_type": "code",
   "execution_count": 6,
   "id": "497db114",
   "metadata": {},
   "outputs": [
    {
     "data": {
      "text/plain": [
       "[60, 10, 20, 30, 20, 50, 40, 70, 90, 80]"
      ]
     },
     "execution_count": 6,
     "metadata": {},
     "output_type": "execute_result"
    }
   ],
   "source": [
    "# Lista de valores\n",
    "valores = [60,10, 20 , 30,20, 50,40, 70, 90,80]\n",
    "valores"
   ]
  },
  {
   "cell_type": "code",
   "execution_count": 7,
   "id": "5f48f1fc",
   "metadata": {},
   "outputs": [
    {
     "data": {
      "text/plain": [
       "[10, 20, 20, 30, 40, 50, 60, 70, 80, 90]"
      ]
     },
     "execution_count": 7,
     "metadata": {},
     "output_type": "execute_result"
    }
   ],
   "source": [
    "# Ordenar os dados\n",
    "dados = sorted(valores)\n",
    "dados"
   ]
  },
  {
   "cell_type": "code",
   "execution_count": 13,
   "id": "b1968d8d",
   "metadata": {},
   "outputs": [
    {
     "name": "stdout",
     "output_type": "stream",
     "text": [
      "47\n"
     ]
    }
   ],
   "source": [
    "# Média aritmética\n",
    "media_aritmetica = statistics.mean(dados)\n",
    "print(media_aritmetica)"
   ]
  },
  {
   "cell_type": "code",
   "execution_count": 12,
   "id": "9e17d6f9",
   "metadata": {},
   "outputs": [
    {
     "name": "stdout",
     "output_type": "stream",
     "text": [
      "56.875\n"
     ]
    }
   ],
   "source": [
    "# Lista de pesos (mesmo tamanho de 'valores')\n",
    "pesos = [1, 1, 1, 1, 1, 2, 2, 2, 2, 3]\n",
    "\n",
    "# Média ponderada\n",
    "media_ponderada = np.average(dados, weights=pesos)\n",
    "print(media_ponderada)"
   ]
  },
  {
   "cell_type": "code",
   "execution_count": 15,
   "id": "c88a194c",
   "metadata": {},
   "outputs": [
    {
     "name": "stdout",
     "output_type": "stream",
     "text": [
      "38.554875304589814\n"
     ]
    }
   ],
   "source": [
    "# Média geométrica\n",
    "media_geometrica = stats.gmean(dados)\n",
    "print(media_geometrica)"
   ]
  },
  {
   "cell_type": "code",
   "execution_count": 16,
   "id": "94129c02",
   "metadata": {},
   "outputs": [
    {
     "name": "stdout",
     "output_type": "stream",
     "text": [
      "30.039337227321493\n"
     ]
    }
   ],
   "source": [
    "# Média harmônica\n",
    "media_harmonica = statistics.harmonic_mean(dados)\n",
    "print(media_harmonica)"
   ]
  },
  {
   "cell_type": "code",
   "execution_count": 18,
   "id": "fb78ea51",
   "metadata": {},
   "outputs": [
    {
     "name": "stdout",
     "output_type": "stream",
     "text": [
      "45.0\n"
     ]
    }
   ],
   "source": [
    "# Mediana\n",
    "mediana = statistics.median(dados)\n",
    "print(mediana)"
   ]
  },
  {
   "cell_type": "code",
   "execution_count": 20,
   "id": "d8b53ba5",
   "metadata": {},
   "outputs": [
    {
     "name": "stdout",
     "output_type": "stream",
     "text": [
      "Q1: 22.5, Q2: 45.0, Q3: 67.5\n"
     ]
    }
   ],
   "source": [
    "# Quartis\n",
    "Q1 = np.percentile(dados, 25)\n",
    "Q2 = np.percentile(dados, 50)\n",
    "Q3 = np.percentile(dados, 75)\n",
    "\n",
    "print(f\"Q1: {Q1}, Q2: {Q2}, Q3: {Q3}\")"
   ]
  },
  {
   "cell_type": "code",
   "execution_count": 22,
   "id": "c4de6937",
   "metadata": {},
   "outputs": [
    {
     "name": "stdout",
     "output_type": "stream",
     "text": [
      "\n",
      "Decis:\n",
      "  D1: 19.0\n",
      "  D2: 20.0\n",
      "  D3: 26.999999999999996\n",
      "  D4: 36.0\n",
      "  D5: 45.0\n",
      "  D6: 53.99999999999999\n",
      "  D7: 63.0\n",
      "  D8: 72.0\n",
      "  D9: 81.0\n"
     ]
    }
   ],
   "source": [
    "# Decis (D1 a D9)\n",
    "decis = {f'D{i}': np.percentile(dados, i * 10) for i in range(1, 10)}\n",
    "\n",
    "print(\"\\nDecis:\")\n",
    "for k, v in decis.items():\n",
    "    print(f\"  {k}: {v}\")\n"
   ]
  },
  {
   "cell_type": "code",
   "execution_count": 23,
   "id": "3a1702de",
   "metadata": {},
   "outputs": [
    {
     "name": "stdout",
     "output_type": "stream",
     "text": [
      "\n",
      "Percentis:\n",
      "  P1: 10.9\n",
      "  P2: 11.8\n",
      "  P3: 12.7\n",
      "  P4: 13.6\n",
      "  P5: 14.5\n",
      "  P6: 15.4\n",
      "  P7: 16.3\n",
      "  P8: 17.2\n",
      "  P9: 18.099999999999998\n",
      "  P10: 19.0\n",
      "  P11: 19.9\n",
      "  P12: 20.0\n",
      "  P13: 20.0\n",
      "  P14: 20.0\n",
      "  P15: 20.0\n",
      "  P16: 20.0\n",
      "  P17: 20.0\n",
      "  P18: 20.0\n",
      "  P19: 20.0\n",
      "  P20: 20.0\n",
      "  P21: 20.0\n",
      "  P22: 20.0\n",
      "  P23: 20.700000000000003\n",
      "  P24: 21.6\n",
      "  P25: 22.5\n",
      "  P26: 23.4\n",
      "  P27: 24.3\n",
      "  P28: 25.200000000000003\n",
      "  P29: 26.099999999999998\n",
      "  P30: 26.999999999999996\n",
      "  P31: 27.9\n",
      "  P32: 28.799999999999997\n",
      "  P33: 29.700000000000003\n",
      "  P34: 30.6\n",
      "  P35: 31.5\n",
      "  P36: 32.4\n",
      "  P37: 33.3\n",
      "  P38: 34.2\n",
      "  P39: 35.1\n",
      "  P40: 36.0\n",
      "  P41: 36.9\n",
      "  P42: 37.8\n",
      "  P43: 38.7\n",
      "  P44: 39.6\n",
      "  P45: 40.5\n",
      "  P46: 41.400000000000006\n",
      "  P47: 42.3\n",
      "  P48: 43.2\n",
      "  P49: 44.1\n",
      "  P50: 45.0\n",
      "  P51: 45.9\n",
      "  P52: 46.8\n",
      "  P53: 47.7\n",
      "  P54: 48.6\n",
      "  P55: 49.5\n",
      "  P56: 50.400000000000006\n",
      "  P57: 51.3\n",
      "  P58: 52.199999999999996\n",
      "  P59: 53.099999999999994\n",
      "  P60: 53.99999999999999\n",
      "  P61: 54.900000000000006\n",
      "  P62: 55.8\n",
      "  P63: 56.7\n",
      "  P64: 57.599999999999994\n",
      "  P65: 58.50000000000001\n",
      "  P66: 59.400000000000006\n",
      "  P67: 60.300000000000004\n",
      "  P68: 61.2\n",
      "  P69: 62.099999999999994\n",
      "  P70: 63.0\n",
      "  P71: 63.9\n",
      "  P72: 64.8\n",
      "  P73: 65.7\n",
      "  P74: 66.6\n",
      "  P75: 67.5\n",
      "  P76: 68.4\n",
      "  P77: 69.3\n",
      "  P78: 70.2\n",
      "  P79: 71.10000000000001\n",
      "  P80: 72.0\n",
      "  P81: 72.9\n",
      "  P82: 73.8\n",
      "  P83: 74.7\n",
      "  P84: 75.6\n",
      "  P85: 76.5\n",
      "  P86: 77.4\n",
      "  P87: 78.3\n",
      "  P88: 79.2\n",
      "  P89: 80.1\n",
      "  P90: 81.0\n",
      "  P91: 81.89999999999999\n",
      "  P92: 82.80000000000001\n",
      "  P93: 83.70000000000002\n",
      "  P94: 84.6\n",
      "  P95: 85.49999999999999\n",
      "  P96: 86.4\n",
      "  P97: 87.30000000000001\n",
      "  P98: 88.2\n",
      "  P99: 89.1\n"
     ]
    }
   ],
   "source": [
    "# Percentis (P1 a P99)\n",
    "percentis = {f'P{i}': np.percentile(dados, i) for i in range(1, 100)}\n",
    "\n",
    "print(\"\\nPercentis:\")\n",
    "for k, v in percentis.items():\n",
    "    print(f\"  {k}: {v}\")"
   ]
  }
 ],
 "metadata": {
  "kernelspec": {
   "display_name": "Python 3",
   "language": "python",
   "name": "python3"
  },
  "language_info": {
   "codemirror_mode": {
    "name": "ipython",
    "version": 3
   },
   "file_extension": ".py",
   "mimetype": "text/x-python",
   "name": "python",
   "nbconvert_exporter": "python",
   "pygments_lexer": "ipython3",
   "version": "3.13.2"
  }
 },
 "nbformat": 4,
 "nbformat_minor": 5
}
